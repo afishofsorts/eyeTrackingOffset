{
 "cells": [
  {
   "cell_type": "code",
   "execution_count": 3,
   "id": "3e852231",
   "metadata": {},
   "outputs": [],
   "source": [
    "import numpy as np\n",
    "import pandas\n",
    "import matplotlib.pyplot as plt\n",
    "import os\n",
    "import random as rand\n",
    "\n",
    "dir_list = os.listdir('Primary Care Calibration\\\\Manually Validated Participants')\n",
    "calList = pandas.read_excel('Primary Care Calibration\\\\Manually Validated Participants\\\\Calibration List.xlsx').to_numpy()\n",
    "\n",
    "inds = np.zeros(len(dir_list)-1)\n",
    "for i in range(len(dir_list)-1):\n",
    "    if calList[i, 1]=='Good':\n",
    "        inds[i] = 1\n",
    "\n",
    "def dataClean(data, reg=np.array([[0, 1920], [0, 1080]])):\n",
    "    for l in range(len(data[:, 0])):\n",
    "        if data[l, 4]<reg[0, 0] or data[l, 4]>reg[0, 1] or data[l, 5]<reg[1, 0] or data[l, 5]>reg[1, 1]:\n",
    "            data[l, 3] = 0\n",
    "\n",
    "    validData = np.zeros(shape=(int(sum(data[:, 3])), 6))\n",
    "\n",
    "    j = 0\n",
    "    for k in range(len(data[:, 0])):\n",
    "        if data[k, 3] == 1:\n",
    "            validData[j, :] = data[k, :]\n",
    "            j= j + 1\n",
    "    return validData\n",
    "\n",
    "def com(data):\n",
    "    m = len(data[:, 0])\n",
    "    dataCom = ((data.T  @ np.ones(m)[None].T)/m).T[0]\n",
    "    return dataCom"
   ]
  },
  {
   "cell_type": "code",
   "execution_count": 4,
   "id": "c9df26f6",
   "metadata": {},
   "outputs": [],
   "source": [
    "sm = np.array([[0, 550], [200, 600]])\n",
    "speedom = np.array([[820, 1000], [200, 400]])\n",
    "rv = np.array([[1250, 1900], [540, 800]])\n",
    "road = np.array([[600, 1050], [400, 550]])\n",
    "panel = np.array([[1240, 1640], [0, 270]])\n",
    "\n",
    "def regConv(region, comAvgs, comSDs):\n",
    "    newReg = region - (np.ones(2)[None].T @ comAvgs[None]).T + 2*(np.array([-1, 1])[None].T @ comSDs[None]).T\n",
    "    return newReg\n",
    "\n",
    "comAvgs = np.array([997.388, 460.393])\n",
    "comSDs = np.array([28.058, 29.206])\n",
    "\n",
    "newSm = regConv(sm, comAvgs, comSDs)\n",
    "newSpeedom = regConv(speedom, comAvgs, comSDs)\n",
    "newRv = regConv(rv, comAvgs, comSDs)\n",
    "newRoad = regConv(road, comAvgs, comSDs)\n",
    "newPanel = regConv(panel, comAvgs, comSDs)\n",
    "\n",
    "def regComs(validData):\n",
    "    n = len(validData[:, 4])\n",
    "\n",
    "    avgs = ((validData[:, 4:].T  @ np.ones(n)[None].T)/n).T[0]\n",
    "\n",
    "    dispMatr = np.ones(len(validData[:, 0]))[None].T @ avgs[None]\n",
    "    validData[:, 4:] = validData[:, 4:] - dispMatr\n",
    "\n",
    "    smData = dataClean(validData, newSm)\n",
    "    validData[:, 3] = np.ones(n)\n",
    "    speedomData = dataClean(validData, newSpeedom)\n",
    "    validData[:, 3] = np.ones(n)\n",
    "    rvData = dataClean(validData, newRv)\n",
    "    validData[:, 3] = np.ones(n)\n",
    "    roadData = dataClean(validData, newRoad)\n",
    "    validData[:, 3] = np.ones(n)\n",
    "    panelData = dataClean(validData, newPanel)\n",
    "\n",
    "    m1 = len(smData[:, 4])\n",
    "    smAvgs = ((smData[:, 4:].T  @ np.ones(m1)[None].T)/m1).T[0]\n",
    "    m2 = len(speedomData[:, 4])\n",
    "    speedomAvgs = ((speedomData[:, 4:].T  @ np.ones(m2)[None].T)/m2).T[0]\n",
    "    m3 = len(rvData[:, 4])\n",
    "    rvAvgs = ((rvData[:, 4:].T  @ np.ones(m3)[None].T)/m3).T[0]\n",
    "    m4 = len(roadData[:, 4])\n",
    "    roadAvgs = ((roadData[:, 4:].T  @ np.ones(m4)[None].T)/m4).T[0]\n",
    "    m5 = len(panelData[:, 4])\n",
    "    panelAvgs = ((panelData[:, 4:].T  @ np.ones(m5)[None].T)/m5).T[0]\n",
    "    \n",
    "    return np.array([n, m1, m2, m3, m4, m5]), np.array([avgs, smAvgs + avgs, speedomAvgs + avgs, rvAvgs + avgs, roadAvgs + avgs, panelAvgs + avgs])"
   ]
  },
  {
   "cell_type": "code",
   "execution_count": null,
   "id": "6e1ce48d",
   "metadata": {},
   "outputs": [
    {
     "name": "stdout",
     "output_type": "stream",
     "text": [
      "[[34.25642392 21.95453001]\n",
      " [15.23754733 15.13710234]\n",
      " [29.31201754 16.78361926]\n",
      " [12.90655847  6.62244055]\n",
      " [19.07620144 18.06992665]]\n"
     ]
    },
    {
     "data": {
      "image/png": "[encoded data removed]",
      "text/plain": [
       "<Figure size 640x480 with 1 Axes>"
      ]
     },
     "metadata": {},
     "output_type": "display_data"
    }
   ],
   "source": [
    "import statistics as stat\n",
    "coms = np.zeros(shape=(6, 2, int(sum(inds))))\n",
    "\n",
    "k=0\n",
    "for i in range(len(dir_list)-1):\n",
    "    if inds[i]==1:\n",
    "        data = pandas.read_csv('Primary Care Calibration\\\\Manually Validated Participants\\\\' + str(dir_list[i+1])).to_numpy()\n",
    "        coms[:, :, k] = regComs(data)\n",
    "        k = k+1\n",
    "\n",
    "varInfo = np.zeros(shape=(5, 2))\n",
    "for j in range(5):\n",
    "    dispMatr = np.ones(shape=(34))[None].T @ (coms[j+1, :, :] @ np.ones(shape=(34))[None].T/34).T\n",
    "    centered = coms[j+1, :, :] - dispMatr.T\n",
    "    covar = centered @ centered.T/33\n",
    "    varInfo[j, :] = np.sqrt(np.diag(covar))\n",
    "\n",
    "for i in range(5):\n",
    "    plt.plot(coms[i+1, 0, :] + comAvgs[0], coms[i+1, 1, :] + comAvgs[1], 'o', markersize=2)\n",
    "\n",
    "print(varInfo)\n",
    "\n",
    "plt.xlim(0, 1920); plt.ylim(0, 1080)\n",
    "plt.show()"
   ]
  },
  {
   "cell_type": "code",
   "execution_count": null,
   "id": "6cbec8d3",
   "metadata": {},
   "outputs": [],
   "source": []
  }
 ],
 "metadata": {
  "kernelspec": {
   "display_name": "base",
   "language": "python",
   "name": "python3"
  },
  "language_info": {
   "codemirror_mode": {
    "name": "ipython",
    "version": 3
   },
   "file_extension": ".py",
   "mimetype": "text/x-python",
   "name": "python",
   "nbconvert_exporter": "python",
   "pygments_lexer": "ipython3",
   "version": "3.13.5"
  }
 },
 "nbformat": 4,
 "nbformat_minor": 5
}
