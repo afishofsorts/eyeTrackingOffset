{
 "cells": [
  {
   "cell_type": "code",
   "execution_count": 1,
   "id": "dbe7ddb4",
   "metadata": {},
   "outputs": [],
   "source": [
    "import numpy as np\n",
    "import pandas\n",
    "import matplotlib.pyplot as plt\n",
    "import os\n",
    "\n",
    "dir_list = os.listdir('Primary Care Calibration\\\\Manually Validated Participants')\n",
    "calList = pandas.read_excel('Primary Care Calibration\\\\Manually Validated Participants\\\\Calibration List.xlsx').to_numpy()\n",
    "\n",
    "inds = np.zeros(len(dir_list)-1)\n",
    "for i in range(len(dir_list)-1):\n",
    "    if calList[i, 1]=='Good':\n",
    "        inds[i] = 1"
   ]
  },
  {
   "cell_type": "code",
   "execution_count": 2,
   "id": "b004fa26",
   "metadata": {},
   "outputs": [],
   "source": [
    "def dataClean(data, reg=np.array([[0, 1920], [0, 1080]])):\n",
    "    for l in range(len(data[:, 0])):\n",
    "        if data[l, 4]<reg[0, 0] or data[l, 4]>reg[0, 1] or data[l, 5]<reg[1, 0] or data[l, 5]>reg[1, 1]:\n",
    "            data[l, 3] = 0\n",
    "\n",
    "    validData = np.zeros(shape=(int(sum(data[:, 3])), 6))\n",
    "\n",
    "    j = 0\n",
    "    for k in range(len(data[:, 0])):\n",
    "        if data[k, 3] == 1:\n",
    "            validData[j, :] = data[k, :]\n",
    "            j= j + 1\n",
    "    return validData"
   ]
  },
  {
   "cell_type": "code",
   "execution_count": 3,
   "id": "ad481d03",
   "metadata": {},
   "outputs": [],
   "source": [
    "sm = np.array([[0, 550], [200, 600]])\n",
    "speedom = np.array([[820, 1000], [200, 400]])\n",
    "rv = np.array([[1250, 1900], [540, 800]])\n",
    "road = np.array([[600, 1050], [400, 550]])\n",
    "panel = np.array([[1240, 1640], [0, 270]])\n",
    "\n",
    "def regConv(region, comAvgs, comSDs):\n",
    "    newReg = region - (np.ones(2)[None].T @ comAvgs[None]).T + 2*(np.array([-1, 1])[None].T @ comSDs[None]).T\n",
    "    return newReg\n",
    "\n",
    "comAvgs = np.array([997.388, 466.393])\n",
    "comSDs = np.array([28.058, 29.206])\n",
    "\n",
    "newSm = regConv(sm, comAvgs, comSDs)\n",
    "newSpeedom = regConv(speedom, comAvgs, comSDs)\n",
    "newRv = regConv(rv, comAvgs, comSDs)\n",
    "newRoad = regConv(road, comAvgs, comSDs)\n",
    "newPanel = regConv(panel, comAvgs, comSDs)\n"
   ]
  },
  {
   "cell_type": "code",
   "execution_count": 4,
   "id": "5887fd7f",
   "metadata": {},
   "outputs": [],
   "source": [
    "def regComs(data):\n",
    "    validData = dataClean(data)\n",
    "\n",
    "    n = len(validData[:, 4])\n",
    "\n",
    "    avgs = ((validData[:, 4:].T  @ np.ones(n)[None].T)/n).T[0]\n",
    "\n",
    "    dispMatr = np.ones(len(validData[:, 0]))[None].T @ avgs[None]\n",
    "    validData[:, 4:] = validData[:, 4:] - dispMatr\n",
    "\n",
    "    smData = dataClean(validData, newSm)\n",
    "    validData[:, 3] = np.ones(n)\n",
    "    speedomData = dataClean(validData, newSpeedom)\n",
    "    validData[:, 3] = np.ones(n)\n",
    "    rvData = dataClean(validData, newRv)\n",
    "    validData[:, 3] = np.ones(n)\n",
    "    roadData = dataClean(validData, newRoad)\n",
    "    validData[:, 3] = np.ones(n)\n",
    "    panelData = dataClean(validData, newPanel)\n",
    "\n",
    "    m = len(smData[:, 4])\n",
    "    smAvgs = ((smData[:, 4:].T  @ np.ones(m)[None].T)/m).T[0]\n",
    "    m = len(speedomData[:, 4])\n",
    "    speedomAvgs = ((speedomData[:, 4:].T  @ np.ones(m)[None].T)/m).T[0]\n",
    "    m = len(rvData[:, 4])\n",
    "    rvAvgs = ((rvData[:, 4:].T  @ np.ones(m)[None].T)/m).T[0]\n",
    "    m = len(roadData[:, 4])\n",
    "    roadAvgs = ((roadData[:, 4:].T  @ np.ones(m)[None].T)/m).T[0]\n",
    "    m = len(panelData[:, 4])\n",
    "    panelAvgs = ((panelData[:, 4:].T  @ np.ones(m)[None].T)/m).T[0]\n",
    "    \n",
    "    return avgs, smAvgs, speedomAvgs, rvAvgs, roadAvgs, panelAvgs"
   ]
  },
  {
   "cell_type": "code",
   "execution_count": 5,
   "id": "ed3c886a",
   "metadata": {},
   "outputs": [
    {
     "name": "stdout",
     "output_type": "stream",
     "text": [
      "[[34.25642392 21.95453001]\n",
      " [15.23754733 15.13710234]\n",
      " [29.31201754 16.78361926]\n",
      " [12.90655847  6.62244055]\n",
      " [19.07620144 18.06992665]]\n",
      "[[-631.20976133  -29.62292165]\n",
      " [ -62.35599362  -91.63778477]\n",
      " [ 436.96134437  110.11957783]\n",
      " [ -38.9361328    20.68282975]\n",
      " [ 434.2864718  -258.90634934]]\n"
     ]
    },
    {
     "data": {
      "image/png": "[encoded data removed]",
      "text/plain": [
       "<Figure size 640x480 with 1 Axes>"
      ]
     },
     "metadata": {},
     "output_type": "display_data"
    }
   ],
   "source": [
    "import statistics as stat\n",
    "coms = np.zeros(shape=(6, 2, int(sum(inds))))\n",
    "\n",
    "k=0\n",
    "for i in range(len(dir_list)-1):\n",
    "    if inds[i]==1:\n",
    "        data = pandas.read_csv('Primary Care Calibration\\\\Manually Validated Participants\\\\' + str(dir_list[i+1])).to_numpy()\n",
    "        coms[:, :, k] = regComs(data)\n",
    "        k = k+1\n",
    "\n",
    "varInfo = np.zeros(shape=(5, 2))\n",
    "regAvgs = np.zeros(shape=(5, 2))\n",
    "for j in range(5):\n",
    "    dispMatr = np.ones(shape=(34))[None].T @ (coms[j+1, :, :] @ np.ones(shape=(34))[None].T/34).T\n",
    "    regAvgs[j, :] = (coms[j+1, :, :] @ np.ones(shape=(34))[None].T/34)[:, 0]\n",
    "    centered = coms[j+1, :, :] - dispMatr.T\n",
    "    covar = centered @ centered.T/33\n",
    "    varInfo[j, :] = np.sqrt(np.diag(covar))\n",
    "\n",
    "for i in range(5):\n",
    "    plt.plot(coms[i+1, 0, :] + comAvgs[0], coms[i+1, 1, :] + comAvgs[1], 'o', markersize=2)\n",
    "\n",
    "print(varInfo)\n",
    "print(regAvgs)\n",
    "\n",
    "plt.xlim(0, 1920); plt.ylim(0, 1080)\n",
    "plt.show()"
   ]
  },
  {
   "cell_type": "code",
   "execution_count": 6,
   "id": "4e661998",
   "metadata": {},
   "outputs": [],
   "source": [
    "from sko.PSO import PSO\n",
    "import random\n",
    "import sys\n",
    "\n",
    "def linfFunc(p, data):\n",
    "    n = len(data[:, 0])\n",
    "    dispMatr = np.ones(shape=(n))[None].T @ p[None]\n",
    "    newData = data-dispMatr\n",
    "    inds = np.where(np.logical_and(abs(newData[:, 0])<100, abs(newData[:, 1])<100))[0]\n",
    "    l = len(inds)\n",
    "    if l==0:\n",
    "        return 99999999\n",
    "    else:\n",
    "        sum = 0\n",
    "        for i in range(l):\n",
    "            sum = sum + max(abs(newData[inds[i], :]))\n",
    "        return sum/l**2\n",
    "\n",
    "def psoRun(reg, iter, psoFunc):\n",
    "    seed = random.randrange(0, sys.maxsize); random.seed(seed)\n",
    "    pso = PSO(func=psoFunc, n_dim=2, pop=40, max_iter=iter, lb=reg[:, 0], ub=reg[:, 1], w=0.7, c1=0.5, c2=0.5) # performs PSO fitting over omegas\n",
    "    pso.run()\n",
    "    return pso.gbest_x\n",
    "\n",
    "def regPso(data, distFunc):\n",
    "    validData = dataClean(data)\n",
    "\n",
    "    n = len(validData[:, 4])\n",
    "\n",
    "    avgs = ((validData[:, 4:].T  @ np.ones(n)[None].T)/n).T[0]\n",
    "\n",
    "    dispMatr = np.ones(len(validData[:, 0]))[None].T @ avgs[None]\n",
    "    validData[:, 4:] = validData[:, 4:] - dispMatr\n",
    "\n",
    "    psoFunc = lambda p: distFunc(p, validData[:, 4:])\n",
    "    smPso = psoRun(newSm, 30, psoFunc)\n",
    "    speedomPso = psoRun(newSpeedom, 30, psoFunc)\n",
    "    rvPso = psoRun(newRv, 30, psoFunc)\n",
    "    roadPso = psoRun(newRoad, 30, psoFunc)\n",
    "    panelPso = psoRun(newPanel, 30, psoFunc)\n",
    "\n",
    "    return smPso, speedomPso, rvPso, roadPso, panelPso"
   ]
  },
  {
   "cell_type": "code",
   "execution_count": 7,
   "id": "2cb3e741",
   "metadata": {},
   "outputs": [],
   "source": [
    "psoCenters = np.zeros(shape=(5, 2, int(sum(inds))))\n",
    "\n",
    "k=0\n",
    "for i in range(len(dir_list)-1):\n",
    "    if inds[i]==1:\n",
    "        data = pandas.read_csv('Primary Care Calibration\\\\Manually Validated Participants\\\\' + str(dir_list[i+1])).to_numpy()\n",
    "        psoCenters[:, :, k] = regPso(data, linfFunc)\n",
    "        k = k+1"
   ]
  },
  {
   "cell_type": "code",
   "execution_count": 9,
   "id": "54cfb86f",
   "metadata": {},
   "outputs": [
    {
     "name": "stdout",
     "output_type": "stream",
     "text": [
      "[[ 87.77164781  34.27963021]\n",
      " [ 18.11359118   0.        ]\n",
      " [  0.           9.12466392]\n",
      " [ 18.21341498  10.05894097]\n",
      " [147.19473751  75.76598271]]\n"
     ]
    },
    {
     "data": {
      "image/png": "[encoded data removed]",
      "text/plain": [
       "<Figure size 640x480 with 1 Axes>"
      ]
     },
     "metadata": {},
     "output_type": "display_data"
    }
   ],
   "source": [
    "varInfo = np.zeros(shape=(5, 2))\n",
    "for j in range(5):\n",
    "    dispMatr = np.ones(shape=(34))[None].T @ (psoCenters[j, :, :] @ np.ones(shape=(34))[None].T/34).T\n",
    "    centered = psoCenters[j, :, :] - dispMatr.T\n",
    "    covar = centered @ centered.T/33\n",
    "    varInfo[j, :] = np.sqrt(np.diag(covar))\n",
    "\n",
    "for i in range(5):\n",
    "    plt.plot(psoCenters[i, 0, :], psoCenters[i, 1, :], 'o', markersize=2)\n",
    "\n",
    "print(varInfo)\n",
    "plt.show()"
   ]
  },
  {
   "cell_type": "code",
   "execution_count": null,
   "id": "490897eb",
   "metadata": {},
   "outputs": [],
   "source": [
    "def boxCircFunc(p, data):\n",
    "    n = len(data[:, 0])\n",
    "    dispMatr = np.ones(shape=(n))[None].T @ p[None]\n",
    "    newData = data-dispMatr\n",
    "    inds = np.where(np.logical_and(abs(newData[:, 0])<100, abs(newData[:, 1])<100))[0]\n",
    "    l = len(inds)\n",
    "    if l==0:\n",
    "        return 99999999\n",
    "    else:\n",
    "        sum = 0\n",
    "        p = 0\n",
    "        for i in range(l):\n",
    "            r2 = newData[inds[i], :] @ newData[inds[i], :]\n",
    "            if r2 < 10000:\n",
    "                sum = sum + r2\n",
    "                p = p + 1\n",
    "        if p == 0:\n",
    "            return 99999999\n",
    "        else:\n",
    "            return sum/p**2\n",
    "\n",
    "psoL2Centers = np.zeros(shape=(5, 2, int(sum(inds))))\n",
    "\n",
    "k=0\n",
    "for i in range(len(dir_list)-1):\n",
    "    if inds[i]==1:\n",
    "        data = pandas.read_csv('Primary Care Calibration\\\\Manually Validated Participants\\\\' + str(dir_list[i+1])).to_numpy()\n",
    "        psoL2Centers[:, :, k] = regPso(data, boxCircFunc)\n",
    "        k = k+1"
   ]
  },
  {
   "cell_type": "code",
   "execution_count": null,
   "id": "19286769",
   "metadata": {},
   "outputs": [
    {
     "name": "stdout",
     "output_type": "stream",
     "text": [
      "[[ 89.82498388  43.58909471]\n",
      " [ 24.36896495  29.1275682 ]\n",
      " [ 27.60052015  29.44301625]\n",
      " [ 23.58590392  32.82831493]\n",
      " [165.56522938  75.85719336]]\n"
     ]
    },
    {
     "data": {
      "image/png": "[encoded data removed]",
      "text/plain": [
       "<Figure size 640x480 with 1 Axes>"
      ]
     },
     "metadata": {},
     "output_type": "display_data"
    }
   ],
   "source": [
    "varInfo = np.zeros(shape=(5, 2))\n",
    "for j in range(5):\n",
    "    dispMatr = np.ones(shape=(34))[None].T @ (psoCenters[j, :, :] @ np.ones(shape=(34))[None].T/34).T\n",
    "    centered = psoCenters[j, :, :] - dispMatr.T\n",
    "    covar = centered @ centered.T/33\n",
    "    varInfo[j, :] = np.sqrt(np.diag(covar))\n",
    "\n",
    "for i in range(5):\n",
    "    plt.plot(psoL2Centers[i, 0, :], psoL2Centers[i, 1, :], 'o', markersize=2)\n",
    "\n",
    "print(varInfo)\n",
    "plt.xlim(0, 1920); plt.ylim(0, 1080)\n",
    "plt.show()"
   ]
  },
  {
   "cell_type": "code",
   "execution_count": null,
   "id": "28e90f21",
   "metadata": {},
   "outputs": [],
   "source": [
    "def l0Func(p, data):\n",
    "    n = len(data[:, 0])\n",
    "    dispMatr = np.ones(shape=(n))[None].T @ p[None]\n",
    "    newData = data-dispMatr\n",
    "    inds = np.where(np.logical_and(abs(newData[:, 0])<100, abs(newData[:, 1])<100))[0]\n",
    "    l = len(inds)\n",
    "    if l==0:\n",
    "        return 99999999\n",
    "    else:\n",
    "        sum = 0\n",
    "        p = 0\n",
    "        for i in range(l):\n",
    "            r0 = abs(newData[inds[i], :]) @ np.ones(2)\n",
    "            if r0 < 100:\n",
    "                sum = sum + r0\n",
    "                p = p + 1\n",
    "        if p==0:\n",
    "            return 99999999\n",
    "        return sum/p**2\n",
    "\n",
    "psoL0Centers = np.zeros(shape=(5, 2, int(sum(inds))))\n",
    "\n",
    "k=0\n",
    "for i in range(len(dir_list)-1):\n",
    "    if inds[i]==1:\n",
    "        data = pandas.read_csv('Primary Care Calibration\\\\Manually Validated Participants\\\\' + str(dir_list[i+1])).to_numpy()\n",
    "        psoL0Centers[:, :, k] = regPso(data, boxCircFunc)\n",
    "        k = k+1"
   ]
  },
  {
   "cell_type": "code",
   "execution_count": null,
   "id": "b4619f1b",
   "metadata": {},
   "outputs": [
    {
     "name": "stdout",
     "output_type": "stream",
     "text": [
      "[[ 89.82498388  43.58909471]\n",
      " [ 24.36896495  29.1275682 ]\n",
      " [ 27.60052015  29.44301625]\n",
      " [ 23.58590392  32.82831493]\n",
      " [165.56522938  75.85719336]]\n"
     ]
    },
    {
     "data": {
      "image/png": "[encoded data removed]",
      "text/plain": [
       "<Figure size 640x480 with 1 Axes>"
      ]
     },
     "metadata": {},
     "output_type": "display_data"
    }
   ],
   "source": [
    "varInfo = np.zeros(shape=(5, 2))\n",
    "for j in range(5):\n",
    "    dispMatr = np.ones(shape=(34))[None].T @ (psoCenters[j, :, :] @ np.ones(shape=(34))[None].T/34).T\n",
    "    centered = psoCenters[j, :, :] - dispMatr.T\n",
    "    covar = centered @ centered.T/33\n",
    "    varInfo[j, :] = np.sqrt(np.diag(covar))\n",
    "\n",
    "for i in range(5):\n",
    "    plt.plot(psoL0Centers[i, 0, :], psoL0Centers[i, 1, :], 'o', markersize=2)\n",
    "\n",
    "print(varInfo)\n",
    "plt.xlim(0, 1920); plt.ylim(0, 1080)\n",
    "plt.show()"
   ]
  }
 ],
 "metadata": {
  "kernelspec": {
   "display_name": "base",
   "language": "python",
   "name": "python3"
  },
  "language_info": {
   "codemirror_mode": {
    "name": "ipython",
    "version": 3
   },
   "file_extension": ".py",
   "mimetype": "text/x-python",
   "name": "python",
   "nbconvert_exporter": "python",
   "pygments_lexer": "ipython3",
   "version": "3.13.5"
  }
 },
 "nbformat": 4,
 "nbformat_minor": 5
}
