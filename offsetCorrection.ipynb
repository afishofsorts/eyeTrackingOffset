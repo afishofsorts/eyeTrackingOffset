{
 "cells": [
  {
   "cell_type": "markdown",
   "id": "359ba61e",
   "metadata": {},
   "source": [
    "Package imports and general function constructions"
   ]
  },
  {
   "cell_type": "code",
   "execution_count": 9,
   "id": "b46a67df",
   "metadata": {},
   "outputs": [],
   "source": [
    "import numpy as np\n",
    "import pandas\n",
    "import matplotlib.pyplot as plt\n",
    "import os\n",
    "import random as rand\n",
    "\n",
    "dir_list = os.listdir('Primary Care Calibration\\\\Manually Validated Participants')\n",
    "calList = pandas.read_excel('Primary Care Calibration\\\\Manually Validated Participants\\\\Calibration List.xlsx').to_numpy()\n",
    "\n",
    "def dataClean(data, reg=np.array([[0, 1920], [0, 1080]])):\n",
    "    for l in range(len(data[:, 0])):\n",
    "        if data[l, 4]<reg[0, 0] or data[l, 4]>reg[0, 1] or data[l, 5]<reg[1, 0] or data[l, 5]>reg[1, 1]:\n",
    "            data[l, 3] = 0\n",
    "\n",
    "    validData = np.zeros(shape=(int(sum(data[:, 3])), 6))\n",
    "\n",
    "    j = 0\n",
    "    for k in range(len(data[:, 0])):\n",
    "        if data[k, 3] == 1:\n",
    "            validData[j, :] = data[k, :]\n",
    "            j= j + 1\n",
    "    return validData\n",
    "\n",
    "def com(data):\n",
    "    m = len(data[:, 0])\n",
    "    dataCom = ((data.T  @ np.ones(m)[None].T)/m).T[0]\n",
    "    return dataCom\n",
    "\n",
    "def homogenize(data, comAvg):\n",
    "    dataCom = com(data)\n",
    "    dispMatr = np.ones(len(data[:, 0]))[None].T @ (comAvg-dataCom)[None]\n",
    "    return data+dispMatr\n",
    "\n",
    "def uniVary(data, width):\n",
    "    m = len(data[:, 0])\n",
    "    dispMatr = np.ones(m)[None].T @ (np.array([rand.random()*width, rand.random()*width]))[None]\n",
    "    return data + dispMatr"
   ]
  },
  {
   "cell_type": "markdown",
   "id": "f2531c4c",
   "metadata": {},
   "source": [
    "Boundary definitions for speedometer, side mirror, etc, as well as functions to calculat the COMs in each region. "
   ]
  },
  {
   "cell_type": "code",
   "execution_count": 14,
   "id": "516cf16a",
   "metadata": {},
   "outputs": [],
   "source": [
    "sm = np.array([[0, 550], [200, 600]])\n",
    "speedom = np.array([[820, 1000], [200, 400]])\n",
    "rv = np.array([[1250, 1900], [540, 800]])\n",
    "road = np.array([[600, 1050], [400, 550]])\n",
    "panel = np.array([[1240, 1640], [0, 270]])\n",
    "\n",
    "def regConv(region, comAvgs, comSDs):\n",
    "    newReg = region - (np.ones(2)[None].T @ comAvgs[None]).T + 2*(np.array([-1, 1])[None].T @ comSDs[None]).T\n",
    "    return newReg\n",
    "\n",
    "comAvgs = np.array([997.388, 466.393])\n",
    "comSDs = np.array([28.058, 29.206])\n",
    "\n",
    "newSm = regConv(sm, comAvgs, comSDs)\n",
    "newSpeedom = regConv(speedom, comAvgs, comSDs)\n",
    "newRv = regConv(rv, comAvgs, comSDs)\n",
    "newRoad = regConv(road, comAvgs, comSDs)\n",
    "newPanel = regConv(panel, comAvgs, comSDs)\n",
    "\n",
    "def regComs(data):\n",
    "    validData = dataClean(data)\n",
    "\n",
    "    n = len(validData[:, 4])\n",
    "\n",
    "    avgs = ((validData[:, 4:].T  @ np.ones(n)[None].T)/n).T[0]\n",
    "\n",
    "    dispMatr = np.ones(len(validData[:, 0]))[None].T @ avgs[None]\n",
    "    validData[:, 4:] = validData[:, 4:] - dispMatr\n",
    "\n",
    "    smData = dataClean(validData, newSm)\n",
    "    validData[:, 3] = np.ones(n)\n",
    "    speedomData = dataClean(validData, newSpeedom)\n",
    "    validData[:, 3] = np.ones(n)\n",
    "    rvData = dataClean(validData, newRv)\n",
    "    validData[:, 3] = np.ones(n)\n",
    "    roadData = dataClean(validData, newRoad)\n",
    "    validData[:, 3] = np.ones(n)\n",
    "    panelData = dataClean(validData, newPanel)\n",
    "\n",
    "    m = len(smData[:, 4])\n",
    "    smAvgs = ((smData[:, 4:].T  @ np.ones(m)[None].T)/m).T[0]\n",
    "    m = len(speedomData[:, 4])\n",
    "    speedomAvgs = ((speedomData[:, 4:].T  @ np.ones(m)[None].T)/m).T[0]\n",
    "    m = len(rvData[:, 4])\n",
    "    rvAvgs = ((rvData[:, 4:].T  @ np.ones(m)[None].T)/m).T[0]\n",
    "    m = len(roadData[:, 4])\n",
    "    roadAvgs = ((roadData[:, 4:].T  @ np.ones(m)[None].T)/m).T[0]\n",
    "    m = len(panelData[:, 4])\n",
    "    panelAvgs = ((panelData[:, 4:].T  @ np.ones(m)[None].T)/m).T[0]\n",
    "    \n",
    "    return smAvgs, speedomAvgs, rvAvgs, roadAvgs, panelAvgs"
   ]
  },
  {
   "cell_type": "markdown",
   "id": "d722a1a5",
   "metadata": {},
   "source": []
  },
  {
   "cell_type": "code",
   "execution_count": 21,
   "id": "3e5be1dc",
   "metadata": {},
   "outputs": [
    {
     "data": {
      "image/png": "[encoded data removed]",
      "text/plain": [
       "<Figure size 640x480 with 1 Axes>"
      ]
     },
     "metadata": {},
     "output_type": "display_data"
    }
   ],
   "source": [
    "comAvgs = np.array([997.388, 466.393])\n",
    "comSDs = np.array([28.058, 29.206])\n",
    "\n",
    "coms = np.zeros(shape=(5, 2, len(dir_list)-1))\n",
    "\n",
    "for i in range(len(dir_list)-1):\n",
    "    data = pandas.read_csv('Primary Care Calibration\\\\Manually Validated Participants\\\\' + str(dir_list[i+1])).to_numpy()\n",
    "    randData = uniVary(homogenize(dataClean(data)[:, 4:], comAvgs), 100)\n",
    "    coms[:, :, i] = regComs(data)\n",
    "    plt.plot(coms[0, 0, i], coms[0, 1, i], 'o')\n",
    "\n",
    "plt.show()"
   ]
  }
 ],
 "metadata": {
  "kernelspec": {
   "display_name": "base",
   "language": "python",
   "name": "python3"
  },
  "language_info": {
   "codemirror_mode": {
    "name": "ipython",
    "version": 3
   },
   "file_extension": ".py",
   "mimetype": "text/x-python",
   "name": "python",
   "nbconvert_exporter": "python",
   "pygments_lexer": "ipython3",
   "version": "3.13.5"
  }
 },
 "nbformat": 4,
 "nbformat_minor": 5
}
