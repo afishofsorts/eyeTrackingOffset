{
 "cells": [
  {
   "cell_type": "code",
   "execution_count": 158,
   "id": "dbe7ddb4",
   "metadata": {},
   "outputs": [],
   "source": [
    "import numpy as np\n",
    "import pandas\n",
    "import matplotlib.pyplot as plt\n",
    "import os\n",
    "\n",
    "dir_list = os.listdir('Primary Care Calibration\\\\Manually Validated Participants')\n",
    "calList = pandas.read_excel('Primary Care Calibration\\\\Manually Validated Participants\\\\Calibration List.xlsx').to_numpy()\n",
    "\n",
    "inds = np.zeros(len(dir_list)-1)\n",
    "for i in range(len(dir_list)-1):\n",
    "    if calList[i, 1]=='Good':\n",
    "        inds[i] = 1"
   ]
  },
  {
   "cell_type": "code",
   "execution_count": 159,
   "id": "b004fa26",
   "metadata": {},
   "outputs": [],
   "source": [
    "def dataClean(data, reg=np.array([[0, 1920], [0, 1080]])):\n",
    "    for l in range(len(data[:, 0])):\n",
    "        if data[l, 4]<reg[0, 0] or data[l, 4]>reg[0, 1] or data[l, 5]<reg[1, 0] or data[l, 5]>reg[1, 1]:\n",
    "            data[l, 3] = 0\n",
    "\n",
    "    validData = np.zeros(shape=(int(sum(data[:, 3])), 6))\n",
    "\n",
    "    j = 0\n",
    "    for k in range(len(data[:, 0])):\n",
    "        if data[k, 3] == 1:\n",
    "            validData[j, :] = data[k, :]\n",
    "            j= j + 1\n",
    "    return validData"
   ]
  },
  {
   "cell_type": "code",
   "execution_count": 160,
   "id": "ad481d03",
   "metadata": {},
   "outputs": [],
   "source": [
    "sm = np.array([[0, 550], [200, 600]])\n",
    "speedom = np.array([[820, 1000], [200, 400]])\n",
    "rv = np.array([[1250, 1900], [540, 800]])\n",
    "road = np.array([[600, 1050], [400, 550]])\n",
    "panel = np.array([[1240, 1640], [0, 270]])\n",
    "\n",
    "def regConv(region, comAvgs, comSDs):\n",
    "    newReg = region - (np.ones(2)[None].T @ comAvgs[None]).T + 2*(np.array([-1, 1])[None].T @ comSDs[None]).T\n",
    "    return newReg\n",
    "\n",
    "comAvgs = np.array([997.388, 466.393])\n",
    "comSDs = np.array([28.058, 29.206])\n",
    "\n",
    "newSm = regConv(sm, comAvgs, comSDs)\n",
    "newSpeedom = regConv(speedom, comAvgs, comSDs)\n",
    "newRv = regConv(rv, comAvgs, comSDs)\n",
    "newRoad = regConv(road, comAvgs, comSDs)\n",
    "newPanel = regConv(panel, comAvgs, comSDs)\n"
   ]
  },
  {
   "cell_type": "code",
   "execution_count": 161,
   "id": "5887fd7f",
   "metadata": {},
   "outputs": [],
   "source": [
    "def regComs(data):\n",
    "    validData = dataClean(data)\n",
    "\n",
    "    n = len(validData[:, 4])\n",
    "\n",
    "    avgs = ((validData[:, 4:].T  @ np.ones(n)[None].T)/n).T[0]\n",
    "\n",
    "    dispMatr = np.ones(len(validData[:, 0]))[None].T @ avgs[None]\n",
    "    validData[:, 4:] = validData[:, 4:] - dispMatr\n",
    "\n",
    "    smData = dataClean(validData, newSm)\n",
    "    validData[:, 3] = np.ones(n)\n",
    "    speedomData = dataClean(validData, newSpeedom)\n",
    "    validData[:, 3] = np.ones(n)\n",
    "    rvData = dataClean(validData, newRv)\n",
    "    validData[:, 3] = np.ones(n)\n",
    "    roadData = dataClean(validData, newRoad)\n",
    "    validData[:, 3] = np.ones(n)\n",
    "    panelData = dataClean(validData, newPanel)\n",
    "\n",
    "    m = len(smData[:, 4])\n",
    "    smAvgs = ((smData[:, 4:].T  @ np.ones(m)[None].T)/m).T[0]\n",
    "    m = len(speedomData[:, 4])\n",
    "    speedomAvgs = ((speedomData[:, 4:].T  @ np.ones(m)[None].T)/m).T[0]\n",
    "    m = len(rvData[:, 4])\n",
    "    rvAvgs = ((rvData[:, 4:].T  @ np.ones(m)[None].T)/m).T[0]\n",
    "    m = len(roadData[:, 4])\n",
    "    roadAvgs = ((roadData[:, 4:].T  @ np.ones(m)[None].T)/m).T[0]\n",
    "    m = len(panelData[:, 4])\n",
    "    panelAvgs = ((panelData[:, 4:].T  @ np.ones(m)[None].T)/m).T[0]\n",
    "    \n",
    "\n",
    "    return smAvgs, speedomAvgs, rvAvgs, roadAvgs, panelAvgs"
   ]
  },
  {
   "cell_type": "code",
   "execution_count": 162,
   "id": "ed3c886a",
   "metadata": {},
   "outputs": [
    {
     "name": "stdout",
     "output_type": "stream",
     "text": [
      "[[196.78817327 126.11917304]\n",
      " [ 87.53304521  86.95603266]\n",
      " [168.38472104  96.41455226]\n",
      " [ 74.14253371  38.04302459]\n",
      " [109.58443423 103.80382564]]\n"
     ]
    },
    {
     "data": {
      "image/png": "[encoded data removed]",
      "text/plain": [
       "<Figure size 640x480 with 1 Axes>"
      ]
     },
     "metadata": {},
     "output_type": "display_data"
    }
   ],
   "source": [
    "coms = np.zeros(shape=(5, 2, int(sum(inds))))\n",
    "\n",
    "k=0\n",
    "for i in range(len(dir_list)-1):\n",
    "    if inds[i]==1:\n",
    "        data = pandas.read_csv('Primary Care Calibration\\\\Manually Validated Participants\\\\' + str(dir_list[i+1])).to_numpy()\n",
    "        coms[:, :, k] = regComs(data)\n",
    "        k = k+1\n",
    "\n",
    "varInfo = np.zeros(shape=(5, 2))\n",
    "for j in range(5):\n",
    "    dispMatr = np.ones(shape=(34))[None].T @ (coms[j, :, :] @ np.ones(shape=(34))[None].T/34).T\n",
    "    centered = coms[j, :, :] - dispMatr.T\n",
    "    covar = centered @ centered.T\n",
    "    varInfo[j, :] = np.sqrt(np.diag(covar))\n",
    "\n",
    "for i in range(5):\n",
    "    plt.plot(coms[i, 0, :], coms[i, 1, :], 'o')\n",
    "\n",
    "print(varInfo)\n",
    "plt.show()"
   ]
  },
  {
   "cell_type": "code",
   "execution_count": 163,
   "id": "4e661998",
   "metadata": {},
   "outputs": [],
   "source": [
    "from sko.PSO import PSO\n",
    "import random\n",
    "import sys\n",
    "\n",
    "def linfFunc(p, data):\n",
    "    n = len(data[:, 0])\n",
    "    dispMatr = np.ones(shape=(n))[None].T @ p[None]\n",
    "    newData = data-dispMatr\n",
    "    inds = np.where(np.logical_and(abs(newData[:, 0])<100, abs(newData[:, 1])<100))[0]\n",
    "    l = len(inds)\n",
    "    if l==0:\n",
    "        return 99999999\n",
    "    else:\n",
    "        sum = 0\n",
    "        for i in range(l):\n",
    "            sum = sum + max(abs(newData[inds[i], :]))\n",
    "        return sum/l**2\n",
    "\n",
    "def psoLinf(reg, iter, psoFunc):\n",
    "    seed = random.randrange(0, sys.maxsize); random.seed(seed)\n",
    "    pso = PSO(func=psoFunc, n_dim=2, pop=40, max_iter=iter, lb=reg[:, 0], ub=reg[:, 1], w=0.7, c1=0.5, c2=0.5) # performs PSO fitting over omegas\n",
    "    pso.run()\n",
    "    return pso.gbest_x\n",
    "\n",
    "def regPso(data):\n",
    "    validData = dataClean(data)\n",
    "\n",
    "    n = len(validData[:, 4])\n",
    "\n",
    "    avgs = ((validData[:, 4:].T  @ np.ones(n)[None].T)/n).T[0]\n",
    "\n",
    "    dispMatr = np.ones(len(validData[:, 0]))[None].T @ avgs[None]\n",
    "    validData[:, 4:] = validData[:, 4:] - dispMatr\n",
    "\n",
    "    smData = dataClean(validData, newSm)\n",
    "    validData[:, 3] = np.ones(n)\n",
    "    speedomData = dataClean(validData, newSpeedom)\n",
    "    validData[:, 3] = np.ones(n)\n",
    "    rvData = dataClean(validData, newRv)\n",
    "    validData[:, 3] = np.ones(n)\n",
    "    roadData = dataClean(validData, newRoad)\n",
    "    validData[:, 3] = np.ones(n)\n",
    "    panelData = dataClean(validData, newPanel)\n",
    "\n",
    "    psoFunc = lambda p: linfFunc(p, validData[:, 4:])\n",
    "    smPso = psoLinf(newSm, 30, psoFunc)+avgs\n",
    "    speedomPso = psoLinf(newSpeedom, 30, psoFunc)+avgs\n",
    "    rvPso = psoLinf(newRv, 30, psoFunc)+avgs\n",
    "    roadPso = psoLinf(newRoad, 30, psoFunc)+avgs\n",
    "    panelPso = psoLinf(newPanel, 30, psoFunc)+avgs\n",
    "\n",
    "    return smPso, speedomPso, rvPso, roadPso, panelPso"
   ]
  },
  {
   "cell_type": "code",
   "execution_count": 164,
   "id": "2cb3e741",
   "metadata": {},
   "outputs": [
    {
     "name": "stdout",
     "output_type": "stream",
     "text": [
      "[[196.78817327 126.11917304]\n",
      " [ 87.53304521  86.95603266]\n",
      " [168.38472104  96.41455226]\n",
      " [ 74.14253371  38.04302459]\n",
      " [109.58443423 103.80382564]]\n"
     ]
    },
    {
     "data": {
      "image/png": "[encoded data removed]",
      "text/plain": [
       "<Figure size 640x480 with 1 Axes>"
      ]
     },
     "metadata": {},
     "output_type": "display_data"
    }
   ],
   "source": [
    "psoCenters = np.zeros(shape=(5, 2, int(sum(inds))))\n",
    "\n",
    "k=0\n",
    "for i in range(len(dir_list)-1):\n",
    "    if inds[i]==1:\n",
    "        data = pandas.read_csv('Primary Care Calibration\\\\Manually Validated Participants\\\\' + str(dir_list[i+1])).to_numpy()\n",
    "        psoCenters[:, :, k] = regPso(data)\n",
    "        k = k+1\n",
    "\n",
    "varInfo = np.zeros(shape=(5, 2))\n",
    "for j in range(5):\n",
    "    dispMatr = np.ones(shape=(34))[None].T @ (coms[j, :, :] @ np.ones(shape=(34))[None].T/34).T\n",
    "    centered = coms[j, :, :] - dispMatr.T\n",
    "    covar = centered @ centered.T\n",
    "    varInfo[j, :] = np.sqrt(np.diag(covar))\n",
    "\n",
    "for i in range(5):\n",
    "    plt.plot(psoCenters[i, 0, :], psoCenters[i, 1, :], 'o')\n",
    "\n",
    "print(varInfo)\n",
    "plt.show()"
   ]
  }
 ],
 "metadata": {
  "kernelspec": {
   "display_name": "base",
   "language": "python",
   "name": "python3"
  },
  "language_info": {
   "codemirror_mode": {
    "name": "ipython",
    "version": 3
   },
   "file_extension": ".py",
   "mimetype": "text/x-python",
   "name": "python",
   "nbconvert_exporter": "python",
   "pygments_lexer": "ipython3",
   "version": "3.11.5"
  }
 },
 "nbformat": 4,
 "nbformat_minor": 5
}
